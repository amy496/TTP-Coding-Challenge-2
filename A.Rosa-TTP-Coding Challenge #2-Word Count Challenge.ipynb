{
 "cells": [
  {
   "cell_type": "markdown",
   "id": "african-craps",
   "metadata": {},
   "source": [
    "Take-Home Coding Challenge\n",
    "\n",
    "Instructions\n",
    "1. Please work on ONE of the challenges below.\n",
    "2. Upload your solution to a PUBLIC github repository.\n",
    "3. Please include a ReadMe file that has the following information:\n",
    "a. The name and number of the challenge you attempted. Example - “2. Word Count\n",
    "Challenge”\n",
    "b. Instructions on how to open/run your project. Example ReadMe file\n",
    "4. Fill out this form once you upload your Github project.\n",
    "Few Notes\n",
    "● This project will focus on implementing an end-to-end feature using web technologies and\n",
    "frameworks of your own choice.\n",
    "● The expected time to complete this take home assignment is around 6 hours.\n",
    "● The sooner you complete the assignment the faster we can process your application.\n",
    "● You are allowed and encouraged to use Google, Stack Overflow, etc to assist with your solution.\n",
    "● Please submit your solution on Github with a ReadMe file according to the instructions above.\n",
    "● There’s no need to deploy your project on Heroku or related services, unless you want to.\n",
    "● This is your chance to flex your full-stack, back-end, or front-end"
   ]
  },
  {
   "cell_type": "markdown",
   "id": "right-antigua",
   "metadata": {},
   "source": [
    "Challenge #2 - Word Count Challenge \n",
    "\n",
    "Prompt: Did you know you can access a word count feature on Google Docs by pressing Control + Shift + C? We want you to re-implement word count, with a twist. Given a piece of text, return the following statistics: \n",
    "1. Character Count \n",
    "2. Word Count \n",
    "3. Sentence Count \n",
    "4. Paragraph Count \n",
    "5. Bigrams (counts of unique pairs of words) \n",
    "6. Come up with your own features! Use this as an opportunity to show off! We’ll be impressed by creative, well-presented solutions.\n"
   ]
  },
  {
   "cell_type": "markdown",
   "id": "lesser-porter",
   "metadata": {},
   "source": [
    "### For this challenge, I worked separately on each task, creating a function for each task."
   ]
  },
  {
   "cell_type": "markdown",
   "id": "retained-apartment",
   "metadata": {},
   "source": [
    "The first task can be done two ways, by creating a count, or using len():"
   ]
  },
  {
   "cell_type": "code",
   "execution_count": 10,
   "id": "decimal-occasions",
   "metadata": {},
   "outputs": [
    {
     "data": {
      "text/plain": [
       "41"
      ]
     },
     "execution_count": 10,
     "metadata": {},
     "output_type": "execute_result"
    }
   ],
   "source": [
    "def character_count(string):\n",
    "    count = 0\n",
    "    for character in string:\n",
    "        count += 1\n",
    "    return count\n",
    "\n",
    "character_count(\"This is a Test. This the second sentence.\")"
   ]
  },
  {
   "cell_type": "code",
   "execution_count": 114,
   "id": "labeled-democracy",
   "metadata": {},
   "outputs": [
    {
     "data": {
      "text/plain": [
       "41"
      ]
     },
     "execution_count": 114,
     "metadata": {},
     "output_type": "execute_result"
    }
   ],
   "source": [
    "def character_count(string):\n",
    "    return len(string)\n",
    "\n",
    "character_count(\"This is a Test. This the second sentence.\")"
   ]
  },
  {
   "cell_type": "markdown",
   "id": "western-anatomy",
   "metadata": {},
   "source": [
    "*Extra Feature\n",
    "\n",
    "Using the replace() method, I eliminated the spaces and used len( ) to count the number of characters in the string. "
   ]
  },
  {
   "cell_type": "code",
   "execution_count": 115,
   "id": "empirical-lloyd",
   "metadata": {},
   "outputs": [
    {
     "data": {
      "text/plain": [
       "34"
      ]
     },
     "execution_count": 115,
     "metadata": {},
     "output_type": "execute_result"
    }
   ],
   "source": [
    "def character_count_no_spaces(string):\n",
    "    new_count = string.replace(\" \", \"\")\n",
    "    return len(new_count)\n",
    "\n",
    "character_count_no_spaces(\"This is a Test. This the second sentence.\")   "
   ]
  },
  {
   "cell_type": "markdown",
   "id": "capable-estonia",
   "metadata": {},
   "source": [
    "In order to obtain the word count, split() was used to split the whole string into a list of individual word strings, then I used len() to count the number of words in the list."
   ]
  },
  {
   "cell_type": "code",
   "execution_count": 116,
   "id": "inside-memphis",
   "metadata": {},
   "outputs": [
    {
     "data": {
      "text/plain": [
       "8"
      ]
     },
     "execution_count": 116,
     "metadata": {},
     "output_type": "execute_result"
    }
   ],
   "source": [
    "def word_count(string):\n",
    "    x = string.split()\n",
    "    return len(x)\n",
    "\n",
    "word_count(\"This is a Test. This the second sentence.\")"
   ]
  },
  {
   "cell_type": "markdown",
   "id": "aerial-death",
   "metadata": {},
   "source": [
    "Here the string was split by each period, and one was subtracted so the \"\" would not count as another word."
   ]
  },
  {
   "cell_type": "code",
   "execution_count": 117,
   "id": "surgical-navigation",
   "metadata": {},
   "outputs": [
    {
     "data": {
      "text/plain": [
       "2"
      ]
     },
     "execution_count": 117,
     "metadata": {},
     "output_type": "execute_result"
    }
   ],
   "source": [
    "def sentence_count(string):\n",
    "    x = string.split(\".\")\n",
    "    return len(x) - 1\n",
    "\n",
    "sentence_count(\"This is a Test. This the second sentence.\")"
   ]
  },
  {
   "cell_type": "markdown",
   "id": "acting-blank",
   "metadata": {},
   "source": [
    "In order to count the number of paragraphs, sentence count was set to a variable and divided by five. *Note that while a paragraph may have more than five sentences, for the this exercise, 5 was chosen to be the standard."
   ]
  },
  {
   "cell_type": "code",
   "execution_count": 118,
   "id": "expected-seeking",
   "metadata": {},
   "outputs": [
    {
     "data": {
      "text/plain": [
       "4"
      ]
     },
     "execution_count": 118,
     "metadata": {},
     "output_type": "execute_result"
    }
   ],
   "source": [
    "def paragraph_count(string):\n",
    "    x = string.split(\".\")\n",
    "    sentence_count = len(x) - 1\n",
    "    paragraph_number = sentence_count//5\n",
    "    return paragraph_number\n",
    "    \n",
    "paragraph_count(\"This is a topic sentence. This is a supporting sentence. This is a supporting sentence. This is a supporting sentence. This is the concluding sentence. This is the topic sentence. This is a supporting sentence. This is a supporting sentence. This is a supporting sentence. This is the concluding sentence.This is the topic sentence. This is a supporting sentence. This is a supporting sentence. This is a supporting sentence. This is the concluding sentence. This is the topic sentence. This is a supporting sentence. This is a supporting sentence. This is a supporting sentence. This is the concluding sentence.\")    "
   ]
  },
  {
   "cell_type": "markdown",
   "id": "later-cathedral",
   "metadata": {},
   "source": [
    "*Extra Feature\n",
    "\n",
    "Building on the previous code, this function uses a conditional to detect whether or not there are four or more paragraphs, making it a complete essay. If not, the essay is considered incomplete."
   ]
  },
  {
   "cell_type": "code",
   "execution_count": 119,
   "id": "broad-float",
   "metadata": {},
   "outputs": [
    {
     "name": "stdout",
     "output_type": "stream",
     "text": [
      "This is a complete essay.\n"
     ]
    }
   ],
   "source": [
    "def essay(string):\n",
    "    x = string.split(\".\")\n",
    "    sentence_count = len(x) - 1\n",
    "    paragraph_number = sentence_count//5\n",
    "    \n",
    "    if paragraph_number >= 4:\n",
    "        print('This is a complete essay.')\n",
    "    else:\n",
    "        print('This is an incomplete essay')\n",
    "          \n",
    "essay(\"This is the topic sentence. This is a supporting sentence. This is a supporting sentence. This is a supporting sentence. This is the concluding sentence. This is the topic sentence. This is a supporting sentence. This is a supporting sentence. This is a supporting sentence. This is the concluding sentence. This is the topic sentence. This is a supporting sentence. This is a supporting sentence. This is a supporting sentence. This is the concluding sentence. This is the topic sentence. This is a supporting sentence. This is a supporting sentence. This is a supporting sentence. This is the concluding sentence. This is the topic sentence. This is a supporting sentence. This is a supporting sentence. This is a supporting sentence. This is the concluding sentence. This is the topic sentence. This is a supporting sentence. This is a supporting sentence. This is a supporting sentence. This is the concluding sentence. This is the topic sentence. This is a supporting sentence. This is a supporting sentence. This is a supporting sentence. This is the concluding sentence\")"
   ]
  },
  {
   "cell_type": "code",
   "execution_count": 121,
   "id": "pursuant-biodiversity",
   "metadata": {
    "scrolled": true
   },
   "outputs": [
    {
     "name": "stdout",
     "output_type": "stream",
     "text": [
      "This is a complete essay.\n"
     ]
    },
    {
     "data": {
      "text/plain": [
       "'Characters: 1076, Characters without spaces: 902, Word Count: 175, Sentence Count: 34, Paragraph Count: 6'"
      ]
     },
     "execution_count": 121,
     "metadata": {},
     "output_type": "execute_result"
    }
   ],
   "source": [
    "def word_count_challenge(string):\n",
    "    characters = character_count(string)\n",
    "    words = word_count(string)\n",
    "    characters_no_spaces = character_count_no_spaces(string)\n",
    "    sentences = sentence_count(string)\n",
    "    paragraphs = paragraph_count(string)\n",
    "    essays = essay(string)\n",
    "    return f'Characters: {characters}, Characters without spaces: {characters_no_spaces}, Word Count: {words}, Sentence Count: {sentences}, Paragraph Count: {paragraphs}'\n",
    "word_count_challenge(\"This is the topic sentence. This is a supporting sentence. This is a supporting sentence. This is a supporting sentence. This is the concluding sentence. This is the topic sentence. This is a supporting sentence. This is a supporting sentence. This is a supporting sentence. This is the concluding sentence. This is the topic sentence. This is a supporting sentence. This is a supporting sentence. This is a supporting sentence. This is the concluding sentence. This is the topic sentence. This is a supporting sentence. This is a supporting sentence. This is a supporting sentence. This is the concluding sentence. This is the topic sentence. This is a supporting sentence. This is a supporting sentence. This is a supporting sentence. This is the concluding sentence. This is the topic sentence. This is a supporting sentence. This is a supporting sentence. This is a supporting sentence. This is the concluding sentence. This is the topic sentence. This is a supporting sentence. This is a supporting sentence. This is a supporting sentence. This is the concluding sentence\")"
   ]
  },
  {
   "cell_type": "code",
   "execution_count": null,
   "id": "headed-observer",
   "metadata": {},
   "outputs": [],
   "source": []
  }
 ],
 "metadata": {
  "kernelspec": {
   "display_name": "Python 3",
   "language": "python",
   "name": "python3"
  },
  "language_info": {
   "codemirror_mode": {
    "name": "ipython",
    "version": 3
   },
   "file_extension": ".py",
   "mimetype": "text/x-python",
   "name": "python",
   "nbconvert_exporter": "python",
   "pygments_lexer": "ipython3",
   "version": "3.8.5"
  }
 },
 "nbformat": 4,
 "nbformat_minor": 5
}
